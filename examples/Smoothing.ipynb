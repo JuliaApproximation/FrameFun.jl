{
 "cells": [
  {
   "cell_type": "code",
   "execution_count": null,
   "metadata": {
    "collapsed": false
   },
   "outputs": [],
   "source": [
    "using BasisFunctions\n",
    "using FrameFuns\n",
    "using PyPlot"
   ]
  },
  {
   "cell_type": "markdown",
   "metadata": {},
   "source": [
    "# One-dimensional smoothing"
   ]
  },
  {
   "cell_type": "code",
   "execution_count": null,
   "metadata": {
    "collapsed": false
   },
   "outputs": [],
   "source": [
    "B = FourierBasis(301)\n",
    "D = Interval(-0.5,0.5)\n",
    "f(x) = exp(x)\n",
    "fscale(i) = 10.0^-4+abs(i)+abs(i)^2+abs(i)^3\n",
    "F = Fun(f,B,D; solver=FrameFuns.FE_ProjectionSolver)\n",
    "F2 = Fun(f,B,D;solver=FrameFuns.FE_SmoothProjectionSolver)"
   ]
  },
  {
   "cell_type": "code",
   "execution_count": null,
   "metadata": {
    "collapsed": false
   },
   "outputs": [],
   "source": [
    "subplot(221); FrameFuns.plot_extension(F)\n",
    "subplot(222); FrameFuns.plot_extension(F2)\n",
    "subplot(223); FrameFuns.plot_error(F,f)\n",
    "subplot(224); FrameFuns.plot_error(F2,f)"
   ]
  },
  {
   "cell_type": "markdown",
   "metadata": {},
   "source": [
    "### Scaling function determines coefficients decay"
   ]
  },
  {
   "cell_type": "code",
   "execution_count": null,
   "metadata": {
    "collapsed": false
   },
   "outputs": [],
   "source": [
    "subplot(121); PyPlot.semilogy(abs(coefficients(F)))\n",
    "subplot(122); PyPlot.semilogy(abs(coefficients(F2)))"
   ]
  },
  {
   "cell_type": "markdown",
   "metadata": {},
   "source": [
    "### Scaling the $L_{2}$ norm "
   ]
  },
  {
   "cell_type": "code",
   "execution_count": null,
   "metadata": {
    "collapsed": false
   },
   "outputs": [],
   "source": [
    "B = FourierBasis(301)\n",
    "D = Interval(-0.5,0.5)\n",
    "f(x) = exp(x)\n",
    "fscale(i) = 1.0\n",
    "F2 = Fun(f,B,D;solver=FrameFuns.FE_SmoothProjectionSolver, scale=fscale)"
   ]
  },
  {
   "cell_type": "markdown",
   "metadata": {},
   "source": [
    "The algorithm minimizes the $L_2$ norm of the extension. There seems to be some precision loss in the interior."
   ]
  },
  {
   "cell_type": "code",
   "execution_count": null,
   "metadata": {
    "collapsed": false
   },
   "outputs": [],
   "source": [
    "subplot(121); FrameFuns.plot_extension(F2)\n",
    "subplot(122); FrameFuns.plot_error(F2,f)"
   ]
  },
  {
   "cell_type": "markdown",
   "metadata": {},
   "source": [
    "# Two-dimensional smoothing"
   ]
  },
  {
   "cell_type": "code",
   "execution_count": null,
   "metadata": {
    "collapsed": false
   },
   "outputs": [],
   "source": [
    "B = FourierBasis(30)⊗FourierBasis(30)\n",
    "D = Disk(0.5)\n",
    "f(x,y) = exp(x*y)\n",
    "fscale(i,j) = 10.0^-4+100*(abs(i)^2+abs(j)^2)\n",
    "F = Fun(f,B,D,solver=FrameFuns.FE_ProjectionSolver,)\n",
    "F2 = Fun(f,B,D,solver=FrameFuns.FE_SmoothProjectionSolver,scale=fscale)"
   ]
  },
  {
   "cell_type": "code",
   "execution_count": null,
   "metadata": {
    "collapsed": false
   },
   "outputs": [],
   "source": [
    "subplot(121); FrameFuns.plot_image(F,unscaled=true)\n",
    "subplot(122); FrameFuns.plot_image(F2,unscaled=true)"
   ]
  },
  {
   "cell_type": "code",
   "execution_count": null,
   "metadata": {
    "collapsed": false
   },
   "outputs": [],
   "source": [
    "D = IdxnScalingOperator(B, scale=fscale)\n",
    "AD = inv(D)\n",
    "subplot(121); PyPlot.pcolormesh(log10(abs(coefficients(F))),vmin=-16,vmax=1)\n",
    "PyPlot.colorbar()\n",
    "subplot(122); PyPlot.pcolormesh(log10(abs(coefficients(F2))),vmin=-16,vmax=1)\n",
    "PyPlot.colorbar()"
   ]
  },
  {
   "cell_type": "code",
   "execution_count": null,
   "metadata": {
    "collapsed": false,
    "scrolled": true
   },
   "outputs": [],
   "source": [
    "\n",
    "    subplot(121)\n",
    "    FrameFuns.plot_error(F,f)\n",
    "\n",
    "    subplot(122)\n",
    "    FrameFuns.plot_error(F2,f)\n"
   ]
  },
  {
   "cell_type": "markdown",
   "metadata": {
    "collapsed": true
   },
   "source": [
    "# Convergence of the extension"
   ]
  },
  {
   "cell_type": "markdown",
   "metadata": {},
   "source": [
    "### Fourier"
   ]
  },
  {
   "cell_type": "code",
   "execution_count": null,
   "metadata": {
    "collapsed": false
   },
   "outputs": [],
   "source": [
    "f(x)=exp(x)\n",
    "D = Interval(-0.5,0.5)\n",
    "fscale(i) = 10.0^-8+(abs(i))^3+(abs(i))^2+(abs(i))\n",
    "for i =1:10\n",
    "    Bi = FourierBasis(2^i+1)\n",
    "    F3 = Fun(f,Bi,D,solver=FrameFuns.FE_SmoothProjectionSolver, scale=fscale)\n",
    "    FrameFuns.plot_extension(F3,color=[1-i/11; 1-i/11; 1-i/11])\n",
    "end\n",
    "# The extension converges to something that is 'not' the original function\n",
    "x = -1:0.01:1\n",
    "PyPlot.plot(x,f(x),color=\"red\")"
   ]
  },
  {
   "cell_type": "markdown",
   "metadata": {
    "collapsed": true
   },
   "source": [
    "### Chebyshev"
   ]
  },
  {
   "cell_type": "code",
   "execution_count": null,
   "metadata": {
    "collapsed": false
   },
   "outputs": [],
   "source": [
    "f(x)=sin(5*x)\n",
    "D = Interval(-0.5,0.5)\n",
    "fscale(i) = 10.0^-8+(abs(i))^3+(abs(i))^2+(abs(i))\n",
    "for i =1:10\n",
    "    Bi = ChebyshevBasis(2^i+1)\n",
    "    F3 = Fun(f,Bi,D,solver=FrameFuns.FE_SmoothProjectionSolver, scale=fscale)\n",
    "    FrameFuns.plot_extension(F3,color=[1-i/11; 1-i/11; 1-i/11])\n",
    "end\n",
    "# The extension converges to something that is 'not' the original function\n",
    "x = -1:0.01:1\n",
    "PyPlot.plot(x,f(x),color=\"red\")"
   ]
  },
  {
   "cell_type": "code",
   "execution_count": null,
   "metadata": {
    "collapsed": true
   },
   "outputs": [],
   "source": []
  }
 ],
 "metadata": {
  "kernelspec": {
   "display_name": "Julia 0.4.5",
   "language": "julia",
   "name": "julia-0.4"
  },
  "language_info": {
   "file_extension": ".jl",
   "mimetype": "application/julia",
   "name": "julia",
   "version": "0.4.5"
  }
 },
 "nbformat": 4,
 "nbformat_minor": 0
}
