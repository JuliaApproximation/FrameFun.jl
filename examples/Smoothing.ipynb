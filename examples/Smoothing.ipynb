{
 "cells": [
  {
   "cell_type": "code",
   "execution_count": null,
   "metadata": {},
   "outputs": [],
   "source": [
    "using BasisFunctions, FrameFun, Plots, DomainSets\n",
    "superfun(e::BasisFunctions.Expansion) = BasisFunctions.expansion(superdict(dictionary(e)),coefficients(e));"
   ]
  },
  {
   "cell_type": "markdown",
   "metadata": {},
   "source": [
    "# One-dimensional smoothing"
   ]
  },
  {
   "cell_type": "code",
   "execution_count": null,
   "metadata": {},
   "outputs": [],
   "source": [
    "B = Fourier(301) → -1..1\n",
    "D = -0.5..0.5\n",
    "f = x -> exp(x)\n",
    "fscale = (d,i) -> 10.0^-4+abs(i)+abs(i)^2+abs(i)^3\n",
    "F = Fun(f,B,D; solverstyle=AZStyle())\n",
    "F2 = Fun(f,B,D;solverstyle=AZSmoothStyle(),scaling=fscale)"
   ]
  },
  {
   "cell_type": "code",
   "execution_count": null,
   "metadata": {},
   "outputs": [],
   "source": [
    "plot(superfun(F),layout=4,title=\"unsmoothed\")\n",
    "plot!(superfun(F2),subplot=2,title=\"smoothed\")\n",
    "plot!(superfun(F),f,subplot=3,title=\"unsmooth error\")\n",
    "plot!(superfun(F2),f,subplot=4,title=\"smooth error\")"
   ]
  },
  {
   "cell_type": "markdown",
   "metadata": {},
   "source": [
    "### Scaling function determines coefficients decay"
   ]
  },
  {
   "cell_type": "code",
   "execution_count": null,
   "metadata": {},
   "outputs": [],
   "source": [
    "plot(abs.(coefficients(F)[1:Int(round(end/2))]),yscale=:log10,layout=2,title=\"unsmoothed coefficients\")\n",
    "plot!(abs.(coefficients(F2)[1:Int(round(end/2))]),yscale=:log10,subplot=2,title=\"smoothed coefficients\")"
   ]
  },
  {
   "cell_type": "markdown",
   "metadata": {},
   "source": [
    "### Scaling the $L^2$ norm"
   ]
  },
  {
   "cell_type": "code",
   "execution_count": null,
   "metadata": {},
   "outputs": [],
   "source": [
    "B = Fourier(301) → -1..1\n",
    "D = -.5..0.5\n",
    "f = exp\n",
    "fscale = (d,i) -> 1.0\n",
    "F2 = Fun(f,B,D;solverstyle=AZSmoothStyle(), scaling=fscale)"
   ]
  },
  {
   "cell_type": "markdown",
   "metadata": {},
   "source": [
    "The algorithm minimizes the $L_2$ norm of the extension. There seems to be some precision loss in the interior."
   ]
  },
  {
   "cell_type": "code",
   "execution_count": null,
   "metadata": {},
   "outputs": [],
   "source": [
    "plot(superfun(F2),layout=2)\n",
    "plot!(superfun(F2),f,subplot=2)"
   ]
  },
  {
   "cell_type": "markdown",
   "metadata": {},
   "source": [
    "# Two-dimensional smoothing"
   ]
  },
  {
   "cell_type": "code",
   "execution_count": null,
   "metadata": {},
   "outputs": [],
   "source": [
    "B = (Fourier(20) → -1..1)^2\n",
    "D = disk(0.5)\n",
    "f = (x,y) -> exp(x*y)\n",
    "fscale = (dict,c) -> 10.0^-4+100*abs((c[1])^2+abs(c[2]^2))\n",
    "F2 = Fun(f,B,D,solverstyle=AZSmoothStyle(),scaling=fscale)\n",
    "F = Fun(f,B,D,solverstyle=AZStyle())"
   ]
  },
  {
   "cell_type": "code",
   "execution_count": null,
   "metadata": {},
   "outputs": [],
   "source": [
    "heatmap(superfun(F),layout=2,zlim=[0.6,1.4],title=\"unsmoothed\")\n",
    "heatmap!(superfun(F2),subplot=2,zlim=[0.6,1.4],title=\"smoothed\")"
   ]
  },
  {
   "cell_type": "markdown",
   "metadata": {},
   "source": [
    "# Convergence of the extension"
   ]
  },
  {
   "cell_type": "markdown",
   "metadata": {},
   "source": [
    "### Fourier"
   ]
  },
  {
   "cell_type": "code",
   "execution_count": null,
   "metadata": {},
   "outputs": [],
   "source": [
    "f = x -> exp(x)\n",
    "D = -0.5..0.5\n",
    "fscale = (d,i) -> 10.0^-8+(abs(i))^3+(abs(i))^2+(abs(i))\n",
    "h = plot()\n",
    "colors = range(colorant\"lightgrey\";stop=colorant\"blue\",length=10)\n",
    "for i =1:10\n",
    "    Bi = Fourier(2^i+1) → -1..1\n",
    "    F3 = Fun(f,Bi,D,solverstyle=AZSmoothStyle(), scaling=fscale)\n",
    "    h = plot!(superfun(F3),color=colors[i])\n",
    "end\n",
    "# The extension converges to something that is 'not' the original function\n",
    "x = -1:0.01:1\n",
    "plot!(x,f.(x),color=\"red\")"
   ]
  },
  {
   "cell_type": "code",
   "execution_count": null,
   "metadata": {},
   "outputs": [],
   "source": [
    "f = x -> exp(x)\n",
    "D = Interval(-0.5,0.5)\n",
    "fscale = (d,i) -> 10.0^-8+(abs(i))^3+(abs(i))^2+(abs(i))\n",
    "h = plot()\n",
    "colors = range(colorant\"lightgrey\";stop=colorant\"blue\",length=10)\n",
    "for i =1:10\n",
    "    Bi = ChebyshevT(2^i+1)\n",
    "    F3 = Fun(f,Bi,D,solverstyle=AZSmoothStyle(), scaling=fscale)\n",
    "    h = plot!(superfun(F3),color=colors[i])\n",
    "end\n",
    "# The extension converges to something that is 'not' the original function\n",
    "x = -1:0.01:1\n",
    "plot!(x,f.(x),color=\"red\")"
   ]
  },
  {
   "cell_type": "code",
   "execution_count": null,
   "metadata": {},
   "outputs": [],
   "source": []
  },
  {
   "cell_type": "code",
   "execution_count": null,
   "metadata": {},
   "outputs": [],
   "source": []
  }
 ],
 "metadata": {
  "@webio": {
   "lastCommId": null,
   "lastKernelId": null
  },
  "anaconda-cloud": {},
  "kernelspec": {
   "display_name": "Julia 1.6.3",
   "language": "julia",
   "name": "julia-1.6"
  },
  "language_info": {
   "file_extension": ".jl",
   "mimetype": "application/julia",
   "name": "julia",
   "version": "1.6.3"
  }
 },
 "nbformat": 4,
 "nbformat_minor": 1
}
