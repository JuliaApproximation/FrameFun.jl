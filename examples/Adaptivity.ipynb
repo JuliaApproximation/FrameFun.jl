{
 "cells": [
  {
   "cell_type": "code",
   "execution_count": null,
   "metadata": {},
   "outputs": [],
   "source": [
    "using BasisFunctions, FrameFun, Plots, DomainSets, LinearAlgebra"
   ]
  },
  {
   "cell_type": "markdown",
   "metadata": {},
   "source": [
    "# 1. Introduction "
   ]
  },
  {
   "cell_type": "markdown",
   "metadata": {},
   "source": [
    "Using frames, the behaviour of the coefficients is not predictable. This is easily seen comparing a Chebyshev extension approximation with a Chebyshev series approximation."
   ]
  },
  {
   "cell_type": "code",
   "execution_count": null,
   "metadata": {},
   "outputs": [],
   "source": [
    "CE = ExtensionFramePlatform(platform(ChebyshevT(1) → -2..2), -1..1)\n",
    "CS = ChebyshevPlatform()"
   ]
  },
  {
   "cell_type": "markdown",
   "metadata": {},
   "source": [
    "We approximate $f(x)=e^x$ on `-1..1`, using an extension frame of Chebyshev polynomials scaled to `-2..2`,"
   ]
  },
  {
   "cell_type": "code",
   "execution_count": null,
   "metadata": {},
   "outputs": [],
   "source": [
    "f = exp;"
   ]
  },
  {
   "cell_type": "markdown",
   "metadata": {},
   "source": [
    "Using two approximation sizes"
   ]
  },
  {
   "cell_type": "code",
   "execution_count": null,
   "metadata": {},
   "outputs": [],
   "source": [
    "N1 = 20; N2 = 40;"
   ]
  },
  {
   "cell_type": "markdown",
   "metadata": {},
   "source": [
    "we see that for a basis coefficient size go down to machine precision, while for a frame coefficients go down but they do not reach a plateau."
   ]
  },
  {
   "cell_type": "code",
   "execution_count": null,
   "metadata": {},
   "outputs": [],
   "source": [
    "F_basis_1 = Fun(f, CS, N1)\n",
    "F_basis_2 = Fun(f, CS, N2)\n",
    "F_frame_1 = Fun(f, CE, N1)\n",
    "F_frame_2 = Fun(f, CE, N2)\n",
    "\n",
    "plot(abs.(coefficients(F_basis_1)),yscale=:log10,layout=2,ylims=[1e-20,10],label=\"Small\",title=\"Basis\",size=(900,300),linestyle=:dash,marker=:dot)\n",
    "scatter!(abs.(coefficients(F_basis_2)),label=\"Large\",legend=:topright)\n",
    "plot!(abs.(coefficients(F_frame_1)),yscale=:log10,subplot=2,ylims=[1e-20,10],label=\"Small\",title=\"Extension frame\",linestyle=:dash,marker=:dot)\n",
    "scatter!(abs.(coefficients(F_frame_2)),subplot=2,label=\"Large\",legend=:bottomleft)"
   ]
  },
  {
   "cell_type": "markdown",
   "metadata": {},
   "source": [
    "# 2. Smoothing"
   ]
  },
  {
   "cell_type": "markdown",
   "metadata": {},
   "source": [
    "In this section we approximate the exponential function with a Fourier extension"
   ]
  },
  {
   "cell_type": "code",
   "execution_count": null,
   "metadata": {},
   "outputs": [],
   "source": [
    "f = exp\n",
    "P = FourierExtensionPlatform(0..0.5)"
   ]
  },
  {
   "cell_type": "markdown",
   "metadata": {},
   "source": [
    "Smoothing penalizes the high frequencies. Instead of solving `Ax=b` in a least squares sense, we solve $AD^{-1}y=b$ and $x=D^{-1}y$. This way we ensure that $\\|Dx\\|$ is minimized, rather than $\\| x \\|$, when solving `Ax=b`. The matrix $D$ is diagonal with its diagonal entries dependent on the frequency. The dependency of the weights on the frequency is given by"
   ]
  },
  {
   "cell_type": "code",
   "execution_count": null,
   "metadata": {},
   "outputs": [],
   "source": [
    "function scaling(dict, idx)\n",
    "    l = abs(value(native_index(dict, idx)))\n",
    "    1.0+l+l^2\n",
    "end"
   ]
  },
  {
   "cell_type": "markdown",
   "metadata": {},
   "source": [
    "We solve the approximation problem two times. Once in the ordinary least squares sense and once penalizing the high frequencies. The smoothed approximation has a nicer extension, but its coefficients do not go down fast enough to make predictions on the approximation error. "
   ]
  },
  {
   "cell_type": "code",
   "execution_count": null,
   "metadata": {},
   "outputs": [],
   "source": [
    "F = Fun(f, P, 121; solverstyle=AZStyle())\n",
    "FS = Fun(f, P, 121; solverstyle=AZSmoothStyle(), scaling=scaling)"
   ]
  },
  {
   "cell_type": "code",
   "execution_count": null,
   "metadata": {},
   "outputs": [],
   "source": [
    "superfun(f::Expansion) = Expansion(superdict(dictionary(f)), coefficients(f))\n",
    "scatter(;layout=(1,3),size=(900,300))\n",
    "plot!(superfun(F),subplot=1,label=\"regular\",legend=:topleft)\n",
    "plot!(superfun(FS),subplot=1,label=\"smooth\",legend=:topleft)\n",
    "plot!(F,f,subplot=2,label=\"regular\",legend=:topleft)\n",
    "plot!(FS,f,subplot=2,label=\"smooth\")\n",
    "scatter!(abs.(coefficients(F)), yscale=:log10,subplot=3,legend=false)\n",
    "scatter!(abs.(coefficients(FS)), yscale=:log10,subplot=3)"
   ]
  },
  {
   "cell_type": "markdown",
   "metadata": {},
   "source": [
    "Again, using more degrees of freedom does not lead to a smallest coefficient size that is smaller $\\mathcal O(10^{-9})$"
   ]
  },
  {
   "cell_type": "code",
   "execution_count": null,
   "metadata": {},
   "outputs": [],
   "source": [
    "F = Fun(f, P, 101; solverstyle=AZStyle())\n",
    "FS = Fun(f, P, 101; solverstyle=AZSmoothStyle(),scaling=scaling)"
   ]
  },
  {
   "cell_type": "code",
   "execution_count": null,
   "metadata": {},
   "outputs": [],
   "source": [
    "scatter(;layout=(1,3),size=(900,300))\n",
    "plot!(superfun(F),subplot=1,label=\"regular\",legend=:topleft)\n",
    "plot!(superfun(FS),subplot=1,label=\"smooth\")\n",
    "plot!(F,f,subplot=2,label=\"regular\",legend=:topleft)\n",
    "plot!(FS,f,subplot=2,label=\"smooth\")\n",
    "scatter!(abs.(coefficients(F)), yscale=:log10,subplot=3,legend=false)\n",
    "scatter!(abs.(coefficients(FS)), yscale=:log10,subplot=3)"
   ]
  },
  {
   "cell_type": "code",
   "execution_count": null,
   "metadata": {},
   "outputs": [],
   "source": []
  },
  {
   "cell_type": "markdown",
   "metadata": {},
   "source": [
    "# 3. Adaptive approximation"
   ]
  },
  {
   "cell_type": "markdown",
   "metadata": {},
   "source": [
    "We study the behaviour of adaptive frame approximation using platforms. "
   ]
  },
  {
   "cell_type": "markdown",
   "metadata": {},
   "source": [
    "## 3.1. Function with singularity just outside the interval of interest"
   ]
  },
  {
   "cell_type": "markdown",
   "metadata": {},
   "source": [
    "We choose to approximate a function with a singularity to the right of the interval of interest (`0.0..0.5`). "
   ]
  },
  {
   "cell_type": "code",
   "execution_count": null,
   "metadata": {},
   "outputs": [],
   "source": [
    "f = x->.1/(x-.6)"
   ]
  },
  {
   "cell_type": "markdown",
   "metadata": {},
   "source": [
    "The function is approximated using a Fourier Extension platform. "
   ]
  },
  {
   "cell_type": "code",
   "execution_count": null,
   "metadata": {},
   "outputs": [],
   "source": [
    "P = FourierExtensionPlatform(0.0..0.5)"
   ]
  },
  {
   "cell_type": "code",
   "execution_count": null,
   "metadata": {},
   "outputs": [],
   "source": []
  },
  {
   "cell_type": "markdown",
   "metadata": {},
   "source": [
    "We use different stopping criteria and evaluate the properties of the resulting approximations. "
   ]
  },
  {
   "cell_type": "code",
   "execution_count": null,
   "metadata": {},
   "outputs": [],
   "source": [
    "ResidualStyle(), FNAStyle()"
   ]
  },
  {
   "cell_type": "markdown",
   "metadata": {},
   "source": [
    "### a) Using the ResidualStyle"
   ]
  },
  {
   "cell_type": "markdown",
   "metadata": {},
   "source": [
    "The `ResidualStyle()` `criterion` measures the norm of the residual of the system Ax=B; and compares it with a tolerance `tol`. "
   ]
  },
  {
   "cell_type": "code",
   "execution_count": null,
   "metadata": {},
   "outputs": [],
   "source": [
    "FRES = Fun(f, P, criterion = ResidualStyle(), threshold=1e-10,verbose=true)"
   ]
  },
  {
   "cell_type": "code",
   "execution_count": null,
   "metadata": {},
   "outputs": [],
   "source": []
  },
  {
   "cell_type": "markdown",
   "metadata": {},
   "source": [
    "### b) Using the FNAStyle"
   ]
  },
  {
   "cell_type": "markdown",
   "metadata": {},
   "source": [
    "The `FNAStyle()` `criterion` checks two subcriteria. Firstly, it measures the norm of the coefficients. The $\\ell^2$-norm of the coefficients should be smaller than `FNAη`*$\\|f\\|$. Secondly, we measure the residual of the system Ax=B is measured; and compare it with a tolerance `tol` (as in `ResidualStyle()`).  "
   ]
  },
  {
   "cell_type": "code",
   "execution_count": null,
   "metadata": {},
   "outputs": [],
   "source": [
    "FFNA = Fun(f, P, criterion = FNAStyle(), FNAη=5, threshold=1e-10,verbose=true)"
   ]
  },
  {
   "cell_type": "code",
   "execution_count": null,
   "metadata": {},
   "outputs": [],
   "source": []
  },
  {
   "cell_type": "markdown",
   "metadata": {},
   "source": [
    "### c) Using the residual style, but with small coefficients "
   ]
  },
  {
   "cell_type": "markdown",
   "metadata": {},
   "source": [
    "As before, the `ResidualStyle()` `criterion` measures the norm of the residual of the system Ax=B; and compares it with a tolerance `tol`. Moreover we restrict our solution space to one with small coefficients using the `smallcoefficients=true` option. With the `smallcoefficients_rtol` we eliminate coefficient components of the solution larger than `smallcoefficients_rtol`$\\|f\\|$. (Note, the `smallcoefficients` option works using the `AZSolver` combined with the `RandomizedSvdSolver` only.)"
   ]
  },
  {
   "cell_type": "code",
   "execution_count": null,
   "metadata": {},
   "outputs": [],
   "source": [
    "FRES_cap = Fun(f, P, criterion = ResidualStyle(), threshold=1e-10,verbose=true, smallcoefficients=true, smallcoefficients_rtol = 5)"
   ]
  },
  {
   "cell_type": "code",
   "execution_count": null,
   "metadata": {},
   "outputs": [],
   "source": []
  },
  {
   "cell_type": "markdown",
   "metadata": {},
   "source": [
    "### Comparison"
   ]
  },
  {
   "cell_type": "markdown",
   "metadata": {},
   "source": [
    "`FNAStyle` is more restrictive than `ResidualStyle`; therefore, it is no suprise that `FNAStyle` gives an approximation with more degrees of freedom. A similar reasoning holds comparing `ResidualStyle` with and without the `smallcoefficients` option."
   ]
  },
  {
   "cell_type": "code",
   "execution_count": null,
   "metadata": {},
   "outputs": [],
   "source": [
    "length(FRES), length(FFNA), length(FRES_cap)"
   ]
  },
  {
   "cell_type": "markdown",
   "metadata": {},
   "source": [
    "At the upside, if coefficients are smaller, we obtain a more robust approximation. Here this is visible by the size of the extension of the approximation. The extension is a lot larger using `ResidualStyle`.  "
   ]
  },
  {
   "cell_type": "code",
   "execution_count": null,
   "metadata": {},
   "outputs": [],
   "source": [
    "plot(superfun(FFNA); label=\"FNA\",layout=2,size=(900,300))\n",
    "plot!(superfun(FRES); label=\"RES\",legend=:topleft)\n",
    "plot!(superfun(FRES_cap); label=\"RES_cap\",legend=:topleft)\n",
    "plot!(FFNA,f; label=\"FNA\",subplot=2)\n",
    "plot!(FRES,f; label=\"RES\",legend=:topleft,subplot=2)\n",
    "plot!(FRES_cap,f; label=\"RES_cap\",legend=:topleft,subplot=2)"
   ]
  },
  {
   "cell_type": "code",
   "execution_count": null,
   "metadata": {},
   "outputs": [],
   "source": []
  },
  {
   "cell_type": "markdown",
   "metadata": {},
   "source": [
    "Another motivation for using the coeffient norm as a measure for a good approximation in the `FNAStyle` is seen by comparing the coefficient sizes, approximation errors, and residuals of approximations with different approximation sizes. From <a href=\"https://arxiv.org/abs/1802.01950\">FNA II</a> it is known that the coefficient size will converge to $\\tfrac{\\|f\\|}{\\sqrt A}$. Where $A$ is the lower frame bound of the Fourier extension frame. Nothing is known about its convergence speed; therefore, we allow for some constant `FNAeta`."
   ]
  },
  {
   "cell_type": "code",
   "execution_count": null,
   "metadata": {},
   "outputs": [],
   "source": [
    "f = x->.1/(x-.55);"
   ]
  },
  {
   "cell_type": "code",
   "execution_count": null,
   "metadata": {},
   "outputs": [],
   "source": [
    "N = 10:10:400\n",
    "plot(;yscale=:log10,ylims=[1e-16,1e12],layout=(2,2),size=(900,500))\n",
    "for (i,threshold) in enumerate([1e-3,1e-6,1e-9,1e-12])\n",
    "    F = [Fun(f, P, Ni; threshold=threshold) for Ni in N]\n",
    "    coefsize = [norm(coefficients(Fi)) for Fi in F];\n",
    "    residuals = [residual(f, Fi) for Fi in F];\n",
    "    L2errors = [L2error(f, Fi;rtol=1e-10,atol=1e-10) for Fi in F];\n",
    "    Fnorm = ones(length(N))*(0.24/sqrt(2));\n",
    "    labels = (i != 2) ? [\"\",\"\",\"\",\"\"] : [\"Size\",\"Residual\",\"L2 error\",\"||f||\"]\n",
    "    scatter!(N,coefsize;yscale=:log10,ylims=[1e-16,1e5],subplot=i,label=labels[1])\n",
    "    scatter!(N,residuals,subplot=i,label=labels[2])\n",
    "    scatter!(N,L2errors,subplot=i,label=labels[3])\n",
    "    plot!(N,Fnorm,linestyle=:dash,subplot=i,label=labels[4])\n",
    "    plot!(N,threshold*ones(length(N)),linestyle=:dash,c=:black,subplot=i,label=\"\")\n",
    "end"
   ]
  },
  {
   "cell_type": "code",
   "execution_count": null,
   "metadata": {},
   "outputs": [],
   "source": [
    "plot!()"
   ]
  },
  {
   "cell_type": "code",
   "execution_count": null,
   "metadata": {},
   "outputs": [],
   "source": []
  },
  {
   "cell_type": "markdown",
   "metadata": {},
   "source": [
    "Below we create a similar plot as the one above, but bound the coefficients. "
   ]
  },
  {
   "cell_type": "code",
   "execution_count": null,
   "metadata": {},
   "outputs": [],
   "source": [
    "N = 10:10:400\n",
    "plot(;yscale=:log10,ylims=[1e-16,1e12],layout=(2,2),size=(900,500))\n",
    "for (i,threshold) in enumerate([1e-3,1e-6,1e-9,1e-12])\n",
    "    F = [Fun(f, P, Ni; threshold=threshold,smallcoefficients=true,smallcoefficients_rtol=5) for Ni in N]\n",
    "    coefsize = [norm(coefficients(Fi)) for Fi in F];\n",
    "    residuals = [residual(f, Fi) for Fi in F];\n",
    "    L2errors = [L2error(f, Fi;rtol=1e-10,atol=1e-10) for Fi in F];\n",
    "    Fnorm = ones(length(N))*(0.24/sqrt(2));\n",
    "    labels = (i != 2) ? [\"\",\"\",\"\",\"\"] : [\"Size\",\"Residual\",\"L2 error\",\"||f||\"]\n",
    "    scatter!(N,coefsize;yscale=:log10,ylims=[1e-16,1e5],subplot=i,label=labels[1])\n",
    "    scatter!(N,residuals,subplot=i,label=labels[2])\n",
    "    scatter!(N,L2errors,subplot=i,label=labels[3])\n",
    "    plot!(N,Fnorm,linestyle=:dash,subplot=i,label=labels[4])\n",
    "    plot!(N,threshold*ones(length(N)),linestyle=:dash,c=:black,subplot=i,label=\"\")\n",
    "end"
   ]
  },
  {
   "cell_type": "code",
   "execution_count": null,
   "metadata": {},
   "outputs": [],
   "source": [
    "plot!()"
   ]
  },
  {
   "cell_type": "code",
   "execution_count": null,
   "metadata": {},
   "outputs": [],
   "source": []
  },
  {
   "cell_type": "markdown",
   "metadata": {},
   "source": [
    "## 3.2. Highly oscillatory function"
   ]
  },
  {
   "cell_type": "markdown",
   "metadata": {},
   "source": [
    "We approximate a highly oscillatory function on (`0.0..0.5`). "
   ]
  },
  {
   "cell_type": "code",
   "execution_count": null,
   "metadata": {},
   "outputs": [],
   "source": [
    "f = x->cos(200x^2)"
   ]
  },
  {
   "cell_type": "markdown",
   "metadata": {},
   "source": [
    "The function is approximated using a Fourier Extension platform. "
   ]
  },
  {
   "cell_type": "code",
   "execution_count": null,
   "metadata": {},
   "outputs": [],
   "source": [
    "P = FourierExtensionPlatform(0.0..0.5)"
   ]
  },
  {
   "cell_type": "code",
   "execution_count": null,
   "metadata": {},
   "outputs": [],
   "source": []
  },
  {
   "cell_type": "markdown",
   "metadata": {},
   "source": [
    "We use different stopping criteria and evaluate the properties of the resulting approximations. "
   ]
  },
  {
   "cell_type": "code",
   "execution_count": null,
   "metadata": {},
   "outputs": [],
   "source": [
    "ResidualStyle(), FNAStyle()"
   ]
  },
  {
   "cell_type": "markdown",
   "metadata": {},
   "source": [
    "### a) Using the ResidualStyle"
   ]
  },
  {
   "cell_type": "markdown",
   "metadata": {},
   "source": [
    "The `ResidualStyle()` `criterion` measures the norm of the residual of the system Ax=B; and compares it with a tolerance `tol`. "
   ]
  },
  {
   "cell_type": "code",
   "execution_count": null,
   "metadata": {},
   "outputs": [],
   "source": [
    "FRES = Fun(f, P, criterion = ResidualStyle(), threshold=1e-10,verbose=true)"
   ]
  },
  {
   "cell_type": "code",
   "execution_count": null,
   "metadata": {},
   "outputs": [],
   "source": []
  },
  {
   "cell_type": "markdown",
   "metadata": {},
   "source": [
    "### b) Using the FNAStyle"
   ]
  },
  {
   "cell_type": "markdown",
   "metadata": {},
   "source": [
    "The `FNAStyle()` `criterion` checks two subcriteria. Firstly, it measures the norm of the coefficients. The $\\ell^2$-norm of the coefficients should be smaller than `FNAeta`*$\\|f\\|$. Secondly, we measure the residual of the system Ax=B is measured; and compare it with a tolerance `tol` (as in `ResidualStyle()`).  "
   ]
  },
  {
   "cell_type": "code",
   "execution_count": null,
   "metadata": {},
   "outputs": [],
   "source": [
    "FFNA = Fun(f, P, criterion = FNAStyle(), FNAη=5, threshold=1e-10,verbose=true)"
   ]
  },
  {
   "cell_type": "code",
   "execution_count": null,
   "metadata": {},
   "outputs": [],
   "source": []
  },
  {
   "cell_type": "markdown",
   "metadata": {},
   "source": [
    "### Comparison"
   ]
  },
  {
   "cell_type": "markdown",
   "metadata": {},
   "source": [
    "Again, `FNAStyle` gives an approximation with more degrees of freedom. "
   ]
  },
  {
   "cell_type": "code",
   "execution_count": null,
   "metadata": {},
   "outputs": [],
   "source": [
    "length(FRES), length(FFNA) "
   ]
  },
  {
   "cell_type": "markdown",
   "metadata": {},
   "source": [
    "At the upside, coefficients are smaller. This gives a more robust approximation. Here this is visible by the size of the extension of the approximation. The extension is a lot larger using `ResidualStyle`.  "
   ]
  },
  {
   "cell_type": "code",
   "execution_count": null,
   "metadata": {},
   "outputs": [],
   "source": [
    "plot(FFNA; label=\"FNA\",layout=2,size=(900,300))\n",
    "plot!(FRES; label=\"RES\",legend=:topleft)\n",
    "plot!(FFNA,f; label=\"FNA\",subplot=2)\n",
    "plot!(FRES,f; label=\"RES\",legend=:topleft,subplot=2)"
   ]
  },
  {
   "cell_type": "code",
   "execution_count": null,
   "metadata": {},
   "outputs": [],
   "source": []
  },
  {
   "cell_type": "markdown",
   "metadata": {},
   "source": [
    "The highest frequency in the function is 50. Therefore, the function starts to converge when the number of degrees of freedom reach 50. As is seen in the figure below, coefficients increase to $\\frac{1}{\\epsilon}$ until convergence is  started."
   ]
  },
  {
   "cell_type": "code",
   "execution_count": null,
   "metadata": {},
   "outputs": [],
   "source": [
    "N = 10:10:150\n",
    "plot(;yscale=:log10,ylims=[1e-16,1e12],layout=(2,2),size=(900,500))\n",
    "for (i,threshold) in enumerate([1e-3,1e-6,1e-9,1e-12])\n",
    "    F = [Fun(f, P, Ni; threshold=threshold) for Ni in N]\n",
    "    coefsize = [norm(coefficients(Fi)) for Fi in F];\n",
    "    residuals = [residual(f, Fi) for Fi in F];\n",
    "    L2errors = [L2error(f, Fi;rtol=1e-5,atol=1e-5) for Fi in F];\n",
    "    Fnorm = ones(length(N))*(0.24/sqrt(2));\n",
    "    labels = (i != 4) ? [\"\",\"\",\"\",\"\",\"\"] : [\"Size\",\"Residual\",\"L2 error\",\"||f||\",\"tolerance\"]\n",
    "    scatter!(N,coefsize;yscale=:log10,subplot=i,label=labels[1])\n",
    "    scatter!(N,residuals,subplot=i,label=labels[2])\n",
    "    scatter!(N,L2errors,subplot=i,label=labels[3])\n",
    "    plot!(N,Fnorm,linestyle=:dash,subplot=i,label=labels[4])\n",
    "    plot!(N,threshold*ones(length(N)),linestyle=:dash,c=:black,subplot=i,label=labels[5])\n",
    "end"
   ]
  },
  {
   "cell_type": "code",
   "execution_count": null,
   "metadata": {},
   "outputs": [],
   "source": [
    "plot!()"
   ]
  },
  {
   "cell_type": "code",
   "execution_count": null,
   "metadata": {},
   "outputs": [],
   "source": []
  },
  {
   "cell_type": "code",
   "execution_count": null,
   "metadata": {},
   "outputs": [],
   "source": []
  },
  {
   "cell_type": "code",
   "execution_count": null,
   "metadata": {},
   "outputs": [],
   "source": []
  },
  {
   "cell_type": "code",
   "execution_count": null,
   "metadata": {},
   "outputs": [],
   "source": []
  },
  {
   "cell_type": "code",
   "execution_count": null,
   "metadata": {},
   "outputs": [],
   "source": []
  },
  {
   "cell_type": "code",
   "execution_count": null,
   "metadata": {},
   "outputs": [],
   "source": []
  },
  {
   "cell_type": "markdown",
   "metadata": {},
   "source": [
    "## 3.3. Function with singularity just outside the interval of interest and at the interval boundary"
   ]
  },
  {
   "cell_type": "code",
   "execution_count": null,
   "metadata": {},
   "outputs": [],
   "source": [
    "f = x-> sqrt(sin(x)) + sin(20x) + .1/(x-.55);"
   ]
  },
  {
   "cell_type": "code",
   "execution_count": null,
   "metadata": {},
   "outputs": [],
   "source": [
    "plot(f, LinRange(0,.5,100);legend=false, size=[400,200])"
   ]
  },
  {
   "cell_type": "code",
   "execution_count": null,
   "metadata": {},
   "outputs": [],
   "source": [
    "using Calculus\n",
    "struct SQRT <: Function \n",
    "end\n",
    "\n",
    "(::SQRT)(x::T) where T<:Number = sqrt(x)\n",
    "\n",
    "struct DIFFSQRT <: Function \n",
    "end\n",
    "Calculus.derivative(::SQRT) = DIFFSQRT()\n",
    "Calculus.derivative(::SQRT, x::T) where T<:Number = (DIFFSQRT())(x)\n",
    "(::DIFFSQRT)(x::T) where T<:Number = one(T)/(2sqrt(x))"
   ]
  },
  {
   "cell_type": "code",
   "execution_count": null,
   "metadata": {},
   "outputs": [],
   "source": [
    "WP = WeightedSumPlatform(P, SQRT(),x->1)"
   ]
  },
  {
   "cell_type": "code",
   "execution_count": null,
   "metadata": {},
   "outputs": [],
   "source": [
    "FRES = Fun(f, WP, criterion = ResidualStyle(), threshold=1e-12,verbose=true,oversamplingfactor=5)"
   ]
  },
  {
   "cell_type": "code",
   "execution_count": null,
   "metadata": {},
   "outputs": [],
   "source": [
    "plot(FRES, f; layout=2)\n",
    "plot!(FRES; subplot=2)"
   ]
  },
  {
   "cell_type": "code",
   "execution_count": null,
   "metadata": {},
   "outputs": [],
   "source": [
    "FFNA = Fun(f, WP, criterion = FNAStyle(), FNAeta=5, threshold=1e-12,verbose=true, maxlength=1<<14,oversamplingfactor=5)"
   ]
  },
  {
   "cell_type": "markdown",
   "metadata": {},
   "source": [
    "### Comparison"
   ]
  },
  {
   "cell_type": "code",
   "execution_count": null,
   "metadata": {},
   "outputs": [],
   "source": [
    "length(FRES), length(FFNA)"
   ]
  },
  {
   "cell_type": "code",
   "execution_count": null,
   "metadata": {},
   "outputs": [],
   "source": [
    "plot(FFNA; label=\"FNA\",layout=2,size=(900,300))\n",
    "plot!(FRES; label=\"RES\",legend=:topleft)\n",
    "plot!(FFNA,f; label=\"FNA\",subplot=2)\n",
    "plot!(FRES,f; label=\"RES\",legend=:topleft,subplot=2)"
   ]
  },
  {
   "cell_type": "code",
   "execution_count": null,
   "metadata": {},
   "outputs": [],
   "source": [
    "f = x-> sqrt(sin(x)) + sin(20x) + .1/(x-.55);"
   ]
  },
  {
   "cell_type": "code",
   "execution_count": null,
   "metadata": {},
   "outputs": [],
   "source": [
    "N = 10:10:400\n",
    "plot(;yscale=:log10,ylims=[1e-16,1e12],layout=(2,2),size=(900,500))\n",
    "for (i,threshold) in enumerate([1e-3,1e-6,1e-9,1e-12])\n",
    "    F = [Fun(f, WP, (Ni,Ni); threshold=threshold) for Ni in N]\n",
    "    coefsize = [norm(coefficients(Fi)) for Fi in F];\n",
    "    residuals = [residual(f, Fi) for Fi in F];\n",
    "    L2errors = [L2error(f, Fi;rtol=1e-10,atol=1e-10) for Fi in F];\n",
    "    Fnorm = ones(length(N))*(0.0857645);\n",
    "    labels = (i != 2) ? [\"\",\"\",\"\",\"\"] : [\"Size\",\"Residual\",\"L2 error\",\"||f||\"]\n",
    "    scatter!(N,coefsize;yscale=:log10,ylims=[1e-16,1e5],subplot=i,label=labels[1])\n",
    "    scatter!(N,residuals,subplot=i,label=labels[2])\n",
    "    scatter!(N,L2errors,subplot=i,label=labels[3])\n",
    "    plot!(N,Fnorm,linestyle=:dash,subplot=i,label=labels[4])\n",
    "    plot!(N,threshold*ones(length(N)),linestyle=:dash,c=:black,subplot=i,label=\"\")\n",
    "end"
   ]
  },
  {
   "cell_type": "code",
   "execution_count": null,
   "metadata": {},
   "outputs": [],
   "source": [
    "plot!()"
   ]
  },
  {
   "cell_type": "code",
   "execution_count": null,
   "metadata": {},
   "outputs": [],
   "source": []
  },
  {
   "cell_type": "code",
   "execution_count": null,
   "metadata": {},
   "outputs": [],
   "source": []
  }
 ],
 "metadata": {
  "@webio": {
   "lastCommId": null,
   "lastKernelId": null
  },
  "kernelspec": {
   "display_name": "Julia 1.6.3",
   "language": "julia",
   "name": "julia-1.6"
  },
  "language_info": {
   "file_extension": ".jl",
   "mimetype": "application/julia",
   "name": "julia",
   "version": "1.6.3"
  }
 },
 "nbformat": 4,
 "nbformat_minor": 2
}
