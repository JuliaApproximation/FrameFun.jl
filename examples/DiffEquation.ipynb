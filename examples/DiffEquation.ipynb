{
 "cells": [
  {
   "cell_type": "code",
   "execution_count": null,
   "metadata": {},
   "outputs": [],
   "source": [
    "using BasisFunctions, FrameFun, Plots, DomainSets\n",
    "FE = FrameFun;BA = BasisFunctions;"
   ]
  },
  {
   "cell_type": "markdown",
   "metadata": {},
   "source": [
    "# 1D Differential Equation (Poisson)"
   ]
  },
  {
   "cell_type": "code",
   "execution_count": null,
   "metadata": {},
   "outputs": [],
   "source": [
    "B = Fourier(41) → -1..1\n",
    "Dom = -0.5..0.5"
   ]
  },
  {
   "cell_type": "markdown",
   "metadata": {},
   "source": [
    "## Homogenous Dirichlet Boundary Condition"
   ]
  },
  {
   "cell_type": "markdown",
   "metadata": {},
   "source": [
    "\n",
    "$$\\begin{align}p''(x)&=f(x), &x\\in\\Omega\\\\ p(x)&= 0, &x \\in \\delta\\Omega\\end{align}$$"
   ]
  },
  {
   "cell_type": "markdown",
   "metadata": {},
   "source": [
    "Boundary conditions are defined by an operator and a function. The solution F satisfies \n",
    "    diff*F = df\n",
    "on the domain boundary."
   ]
  },
  {
   "cell_type": "code",
   "execution_count": null,
   "metadata": {},
   "outputs": [],
   "source": [
    "diff = IdentityOperator(B)\n",
    "BC = DirichletBC(x->0);"
   ]
  },
  {
   "cell_type": "markdown",
   "metadata": {},
   "source": [
    "Differential equations are defined by an operator, a function and a boundary condition. The solution F satisfies \n",
    "    Diff*F=f\n",
    "in the interior of the domain."
   ]
  },
  {
   "cell_type": "code",
   "execution_count": null,
   "metadata": {},
   "outputs": [],
   "source": [
    "fD = x->x;\n",
    "Diff = differentiation(B)*differentiation(B)\n",
    "DE = DiffEquation(B,Dom,Diff,fD, (BC,BC));"
   ]
  },
  {
   "cell_type": "code",
   "execution_count": null,
   "metadata": {},
   "outputs": [],
   "source": [
    "FD = solve(DE)"
   ]
  },
  {
   "cell_type": "code",
   "execution_count": null,
   "metadata": {},
   "outputs": [],
   "source": [
    "# Exact solution\n",
    "solD = x->x^3/6 - x/24;"
   ]
  },
  {
   "cell_type": "code",
   "execution_count": null,
   "metadata": {},
   "outputs": [],
   "source": [
    "plot(FD,layout=4,title=\"Solution\")\n",
    "plot!(FD'',subplot=2,title=\"Second derivative\")\n",
    "plot!(FD,solD,subplot=3,title=\"Solution error\")\n",
    "plot!(FD'',fD,subplot=4,title=\"Derivative error\")"
   ]
  },
  {
   "cell_type": "markdown",
   "metadata": {},
   "source": [
    "## Homogenous Neumann Boundary Condition"
   ]
  },
  {
   "cell_type": "markdown",
   "metadata": {},
   "source": [
    "\n",
    "$$\\begin{align}p''(x)&=f(x), &x\\in\\Omega\\\\ p'(x)&= 0, &x \\in \\delta\\Omega\\end{align}$$"
   ]
  },
  {
   "cell_type": "code",
   "execution_count": null,
   "metadata": {},
   "outputs": [],
   "source": [
    "diff = differentiation(B)\n",
    "NeumannBC(x->0.)"
   ]
  },
  {
   "cell_type": "code",
   "execution_count": null,
   "metadata": {},
   "outputs": [],
   "source": [
    "fN = x->x;\n",
    "Diff = differentiation(B)*differentiation(B)\n",
    "DE = DiffEquation(B,Dom,Diff,fN, (BC,));"
   ]
  },
  {
   "cell_type": "code",
   "execution_count": null,
   "metadata": {},
   "outputs": [],
   "source": [
    "FN = solve(DE)"
   ]
  },
  {
   "cell_type": "code",
   "execution_count": null,
   "metadata": {},
   "outputs": [],
   "source": [
    "# Exact solution\n",
    "solN = x->x^3/6-x/8"
   ]
  },
  {
   "cell_type": "code",
   "execution_count": null,
   "metadata": {},
   "outputs": [],
   "source": [
    "plot(FN,layout=4,title=\"Solution\")\n",
    "plot!(FN'',subplot=2,title=\"Second derivative\")\n",
    "plot!(FN,solN,subplot=3,title=\"Solution error\")\n",
    "plot!(FN'',fN,subplot=4,title=\"Derivative error\")"
   ]
  },
  {
   "cell_type": "markdown",
   "metadata": {},
   "source": [
    "# 2D Differential Equation "
   ]
  },
  {
   "cell_type": "markdown",
   "metadata": {},
   "source": [
    "2D experiments may take some time"
   ]
  },
  {
   "cell_type": "markdown",
   "metadata": {},
   "source": [
    "## Dirichlet on Annulus (Laplace)"
   ]
  },
  {
   "cell_type": "markdown",
   "metadata": {},
   "source": [
    "$$\\begin{align}\n",
    "\\Delta p(x,y)&=0 &(x,y)\\in\\Omega\\\\\n",
    "p(x,y) &= df(x,y) &(x,y)\\in\\delta\\Omega\n",
    "\\end{align}$$"
   ]
  },
  {
   "cell_type": "code",
   "execution_count": null,
   "metadata": {},
   "outputs": [],
   "source": [
    "B2 = (Fourier(31) → -1..1)^2\n",
    "D2 = Disk(0.8)\\Rectangle(SA[-0.15,-1.0],SA[0.15,0.0])"
   ]
  },
  {
   "cell_type": "code",
   "execution_count": null,
   "metadata": {},
   "outputs": [],
   "source": [
    "diff2 = IdentityOperator(B2)\n",
    "df2D = (x,y) -> x-y;\n",
    "BC2 = DirichletBC(df2D,DomainSets.euclideanspace(Val(2)))"
   ]
  },
  {
   "cell_type": "code",
   "execution_count": null,
   "metadata": {},
   "outputs": [],
   "source": [
    "f2D = (x,y)->0;\n",
    "Diff2 = differentiation(B2,(2,0))+differentiation(B2,(0,2))\n",
    "DE2 = DiffEquation(B2,D2,Diff2,f2D, (BC2,));"
   ]
  },
  {
   "cell_type": "code",
   "execution_count": null,
   "metadata": {},
   "outputs": [],
   "source": [
    "F2D = solve(DE2,solverstyle=DirectStyle(),directsolver=:qr) "
   ]
  },
  {
   "cell_type": "code",
   "execution_count": null,
   "metadata": {},
   "outputs": [],
   "source": [
    "heatmap(F2D)"
   ]
  },
  {
   "cell_type": "markdown",
   "metadata": {},
   "source": [
    "# Homogenous Neumann on semi-periodic strip (Poisson)"
   ]
  },
  {
   "cell_type": "markdown",
   "metadata": {},
   "source": [
    "$$\\begin{align}\n",
    "\\Delta p(x,y)&=f(x,y) &(x,y)\\in\\Omega\\\\\n",
    "\\frac{\\delta p}{\\delta y}(x,y) &= 0 &(x,y)\\in\\delta\\Omega\n",
    "\\end{align}$$"
   ]
  },
  {
   "cell_type": "code",
   "execution_count": null,
   "metadata": {},
   "outputs": [],
   "source": [
    "B2 = (Fourier(21) → -1..1)^2\n",
    "D2 = Rectangle(SA[-1.0,-0.5],SA[1.0,0.5])"
   ]
  },
  {
   "cell_type": "code",
   "execution_count": null,
   "metadata": {},
   "outputs": [],
   "source": [
    "diff2 = differentiation(B2,(0,1))\n",
    "df2N = (x,y)->0;\n",
    "BC2 = NeumannBC(df2N,DomainSets.euclideanspace(Val(2)))"
   ]
  },
  {
   "cell_type": "code",
   "execution_count": null,
   "metadata": {},
   "outputs": [],
   "source": [
    "f2N = (x,y)->cos(2*pi*(x+y));\n",
    "Diff2 = differentiation(B2,(2,0))+differentiation(B2,(0,2))\n",
    "DE2 = DiffEquation(B2,D2,Diff2,f2N, (BC2,));"
   ]
  },
  {
   "cell_type": "code",
   "execution_count": null,
   "metadata": {},
   "outputs": [],
   "source": [
    "F2N = solve(DE2,solverstyle=AZStyle())"
   ]
  },
  {
   "cell_type": "code",
   "execution_count": null,
   "metadata": {},
   "outputs": [],
   "source": [
    "heatmap(F2N)"
   ]
  },
  {
   "cell_type": "markdown",
   "metadata": {},
   "source": [
    "## Helmholtz"
   ]
  },
  {
   "cell_type": "code",
   "execution_count": null,
   "metadata": {},
   "outputs": [],
   "source": [
    "using StaticArrays\n",
    "B2 = (Fourier(41) → -1..1)^2\n",
    "D2 = Disk(0.75)\\Disk(0.2,SVector(0.3,-0.3))"
   ]
  },
  {
   "cell_type": "code",
   "execution_count": null,
   "metadata": {},
   "outputs": [],
   "source": [
    "diff2 = IdentityOperator(B2)\n",
    "df2H = (x,y)->0;\n",
    "BC = NeumannBC(df2H,DomainSets.euclideanspace(Val(2)))"
   ]
  },
  {
   "cell_type": "code",
   "execution_count": null,
   "metadata": {},
   "outputs": [],
   "source": [
    "f2H = (x,y)->exp(-200*((x+0.3)^2+(y-0.3)^2))\n",
    "Diff2 = differentiation(B2,(2,0))+differentiation(B2,(0,2))+1000*IdentityOperator(B2)\n",
    "DE2 = DiffEquation(B2,D2,Diff2,f2H, (BC2,));"
   ]
  },
  {
   "cell_type": "code",
   "execution_count": null,
   "metadata": {},
   "outputs": [],
   "source": [
    "F2H = FrameFun.solve(DE2,solverstyle=AZStyle())"
   ]
  },
  {
   "cell_type": "code",
   "execution_count": null,
   "metadata": {},
   "outputs": [],
   "source": [
    "heatmap(F2H)"
   ]
  },
  {
   "cell_type": "code",
   "execution_count": null,
   "metadata": {},
   "outputs": [],
   "source": []
  }
 ],
 "metadata": {
  "@webio": {
   "lastCommId": null,
   "lastKernelId": null
  },
  "anaconda-cloud": {},
  "kernelspec": {
   "display_name": "Julia 1.6.3",
   "language": "julia",
   "name": "julia-1.6"
  },
  "language_info": {
   "file_extension": ".jl",
   "mimetype": "application/julia",
   "name": "julia",
   "version": "1.6.3"
  }
 },
 "nbformat": 4,
 "nbformat_minor": 1
}
